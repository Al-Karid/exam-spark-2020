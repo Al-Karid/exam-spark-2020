{
 "cells": [
  {
   "cell_type": "markdown",
   "metadata": {},
   "source": [
    "### CISSE ALASSANE AL MOUSTAPHA"
   ]
  },
  {
   "cell_type": "code",
   "execution_count": 1,
   "metadata": {
    "ExecuteTime": {
     "end_time": "2020-01-30T18:07:47.687788Z",
     "start_time": "2020-01-30T18:07:46.268185Z"
    }
   },
   "outputs": [],
   "source": [
    "import numpy as np\n",
    "import pandas as pd\n",
    "import matplotlib.pyplot as plt"
   ]
  },
  {
   "cell_type": "code",
   "execution_count": 2,
   "metadata": {
    "ExecuteTime": {
     "end_time": "2020-01-30T18:07:47.739215Z",
     "start_time": "2020-01-30T18:07:47.689301Z"
    }
   },
   "outputs": [],
   "source": [
    "data = pd.read_csv(\"data/HousingData.csv\", sep=\";\")"
   ]
  },
  {
   "cell_type": "code",
   "execution_count": 3,
   "metadata": {
    "ExecuteTime": {
     "end_time": "2020-01-30T18:07:47.857401Z",
     "start_time": "2020-01-30T18:07:47.746653Z"
    }
   },
   "outputs": [
    {
     "data": {
      "text/plain": [
       "(518, 14)"
      ]
     },
     "execution_count": 3,
     "metadata": {},
     "output_type": "execute_result"
    }
   ],
   "source": [
    "data.shape"
   ]
  },
  {
   "cell_type": "markdown",
   "metadata": {},
   "source": [
    "### 1. inventaire des lignes et columns"
   ]
  },
  {
   "cell_type": "code",
   "execution_count": 4,
   "metadata": {
    "ExecuteTime": {
     "end_time": "2020-01-30T18:07:47.963542Z",
     "start_time": "2020-01-30T18:07:47.865040Z"
    }
   },
   "outputs": [
    {
     "data": {
      "text/plain": [
       "(518, 14)"
      ]
     },
     "execution_count": 4,
     "metadata": {},
     "output_type": "execute_result"
    }
   ],
   "source": [
    "data.shape"
   ]
  },
  {
   "cell_type": "code",
   "execution_count": 5,
   "metadata": {
    "ExecuteTime": {
     "end_time": "2020-01-30T18:07:48.223972Z",
     "start_time": "2020-01-30T18:07:47.969257Z"
    }
   },
   "outputs": [
    {
     "data": {
      "text/html": [
       "<div>\n",
       "<style scoped>\n",
       "    .dataframe tbody tr th:only-of-type {\n",
       "        vertical-align: middle;\n",
       "    }\n",
       "\n",
       "    .dataframe tbody tr th {\n",
       "        vertical-align: top;\n",
       "    }\n",
       "\n",
       "    .dataframe thead th {\n",
       "        text-align: right;\n",
       "    }\n",
       "</style>\n",
       "<table border=\"1\" class=\"dataframe\">\n",
       "  <thead>\n",
       "    <tr style=\"text-align: right;\">\n",
       "      <th></th>\n",
       "      <th>CRIM</th>\n",
       "      <th>ZN</th>\n",
       "      <th>INDUS</th>\n",
       "      <th>CHAS</th>\n",
       "      <th>NOX</th>\n",
       "      <th>RM</th>\n",
       "      <th>AGE</th>\n",
       "      <th>DIS</th>\n",
       "      <th>RAD</th>\n",
       "      <th>TAX</th>\n",
       "      <th>PTRATIO</th>\n",
       "      <th>B</th>\n",
       "      <th>LSTAT</th>\n",
       "      <th>MEDV</th>\n",
       "    </tr>\n",
       "  </thead>\n",
       "  <tbody>\n",
       "    <tr>\n",
       "      <th>mean</th>\n",
       "      <td>3.551559</td>\n",
       "      <td>10.941767</td>\n",
       "      <td>11.018833</td>\n",
       "      <td>0.068273</td>\n",
       "      <td>0.554725</td>\n",
       "      <td>6.275037</td>\n",
       "      <td>68.734205</td>\n",
       "      <td>3.799699</td>\n",
       "      <td>9.441860</td>\n",
       "      <td>406.275194</td>\n",
       "      <td>18.514479</td>\n",
       "      <td>357.068320</td>\n",
       "      <td>12.754105</td>\n",
       "      <td>22.412162</td>\n",
       "    </tr>\n",
       "    <tr>\n",
       "      <th>std</th>\n",
       "      <td>8.632335</td>\n",
       "      <td>23.168802</td>\n",
       "      <td>6.773559</td>\n",
       "      <td>0.252468</td>\n",
       "      <td>0.114021</td>\n",
       "      <td>0.698662</td>\n",
       "      <td>27.943270</td>\n",
       "      <td>2.089941</td>\n",
       "      <td>8.656246</td>\n",
       "      <td>167.476455</td>\n",
       "      <td>2.173705</td>\n",
       "      <td>90.426167</td>\n",
       "      <td>7.111215</td>\n",
       "      <td>9.133655</td>\n",
       "    </tr>\n",
       "    <tr>\n",
       "      <th>min</th>\n",
       "      <td>0.006320</td>\n",
       "      <td>0.000000</td>\n",
       "      <td>0.460000</td>\n",
       "      <td>0.000000</td>\n",
       "      <td>0.385000</td>\n",
       "      <td>3.561000</td>\n",
       "      <td>2.900000</td>\n",
       "      <td>1.129600</td>\n",
       "      <td>1.000000</td>\n",
       "      <td>187.000000</td>\n",
       "      <td>12.600000</td>\n",
       "      <td>0.320000</td>\n",
       "      <td>1.730000</td>\n",
       "      <td>5.000000</td>\n",
       "    </tr>\n",
       "    <tr>\n",
       "      <th>25%</th>\n",
       "      <td>0.082440</td>\n",
       "      <td>0.000000</td>\n",
       "      <td>5.190000</td>\n",
       "      <td>0.000000</td>\n",
       "      <td>0.453000</td>\n",
       "      <td>5.879000</td>\n",
       "      <td>45.400000</td>\n",
       "      <td>2.104425</td>\n",
       "      <td>4.000000</td>\n",
       "      <td>280.750000</td>\n",
       "      <td>17.400000</td>\n",
       "      <td>375.607500</td>\n",
       "      <td>7.180000</td>\n",
       "      <td>16.725000</td>\n",
       "    </tr>\n",
       "    <tr>\n",
       "      <th>50%</th>\n",
       "      <td>0.269380</td>\n",
       "      <td>0.000000</td>\n",
       "      <td>8.560000</td>\n",
       "      <td>0.000000</td>\n",
       "      <td>0.538000</td>\n",
       "      <td>6.185000</td>\n",
       "      <td>77.300000</td>\n",
       "      <td>3.272100</td>\n",
       "      <td>5.000000</td>\n",
       "      <td>330.000000</td>\n",
       "      <td>19.100000</td>\n",
       "      <td>391.385000</td>\n",
       "      <td>11.500000</td>\n",
       "      <td>21.000000</td>\n",
       "    </tr>\n",
       "    <tr>\n",
       "      <th>75%</th>\n",
       "      <td>3.321050</td>\n",
       "      <td>12.500000</td>\n",
       "      <td>18.100000</td>\n",
       "      <td>0.000000</td>\n",
       "      <td>0.624000</td>\n",
       "      <td>6.616000</td>\n",
       "      <td>94.000000</td>\n",
       "      <td>5.117675</td>\n",
       "      <td>24.000000</td>\n",
       "      <td>666.000000</td>\n",
       "      <td>20.200000</td>\n",
       "      <td>396.192500</td>\n",
       "      <td>16.960000</td>\n",
       "      <td>25.000000</td>\n",
       "    </tr>\n",
       "    <tr>\n",
       "      <th>max</th>\n",
       "      <td>88.976200</td>\n",
       "      <td>100.000000</td>\n",
       "      <td>27.740000</td>\n",
       "      <td>1.000000</td>\n",
       "      <td>0.871000</td>\n",
       "      <td>8.780000</td>\n",
       "      <td>100.000000</td>\n",
       "      <td>12.126500</td>\n",
       "      <td>24.000000</td>\n",
       "      <td>711.000000</td>\n",
       "      <td>22.000000</td>\n",
       "      <td>396.900000</td>\n",
       "      <td>37.970000</td>\n",
       "      <td>50.000000</td>\n",
       "    </tr>\n",
       "  </tbody>\n",
       "</table>\n",
       "</div>"
      ],
      "text/plain": [
       "           CRIM          ZN      INDUS      CHAS       NOX        RM  \\\n",
       "mean   3.551559   10.941767  11.018833  0.068273  0.554725  6.275037   \n",
       "std    8.632335   23.168802   6.773559  0.252468  0.114021  0.698662   \n",
       "min    0.006320    0.000000   0.460000  0.000000  0.385000  3.561000   \n",
       "25%    0.082440    0.000000   5.190000  0.000000  0.453000  5.879000   \n",
       "50%    0.269380    0.000000   8.560000  0.000000  0.538000  6.185000   \n",
       "75%    3.321050   12.500000  18.100000  0.000000  0.624000  6.616000   \n",
       "max   88.976200  100.000000  27.740000  1.000000  0.871000  8.780000   \n",
       "\n",
       "             AGE        DIS        RAD         TAX    PTRATIO           B  \\\n",
       "mean   68.734205   3.799699   9.441860  406.275194  18.514479  357.068320   \n",
       "std    27.943270   2.089941   8.656246  167.476455   2.173705   90.426167   \n",
       "min     2.900000   1.129600   1.000000  187.000000  12.600000    0.320000   \n",
       "25%    45.400000   2.104425   4.000000  280.750000  17.400000  375.607500   \n",
       "50%    77.300000   3.272100   5.000000  330.000000  19.100000  391.385000   \n",
       "75%    94.000000   5.117675  24.000000  666.000000  20.200000  396.192500   \n",
       "max   100.000000  12.126500  24.000000  711.000000  22.000000  396.900000   \n",
       "\n",
       "          LSTAT       MEDV  \n",
       "mean  12.754105  22.412162  \n",
       "std    7.111215   9.133655  \n",
       "min    1.730000   5.000000  \n",
       "25%    7.180000  16.725000  \n",
       "50%   11.500000  21.000000  \n",
       "75%   16.960000  25.000000  \n",
       "max   37.970000  50.000000  "
      ]
     },
     "execution_count": 5,
     "metadata": {},
     "output_type": "execute_result"
    }
   ],
   "source": [
    "data.describe().iloc[1:]"
   ]
  },
  {
   "cell_type": "markdown",
   "metadata": {},
   "source": [
    "### 2. Distribution de la variable cible"
   ]
  },
  {
   "cell_type": "code",
   "execution_count": 6,
   "metadata": {
    "ExecuteTime": {
     "end_time": "2020-01-30T18:07:48.478000Z",
     "start_time": "2020-01-30T18:07:48.226999Z"
    }
   },
   "outputs": [
    {
     "data": {
      "image/png": "[encoded data removed]",
      "text/plain": [
       "<Figure size 432x288 with 1 Axes>"
      ]
     },
     "metadata": {
      "needs_background": "light"
     },
     "output_type": "display_data"
    }
   ],
   "source": [
    "_ = plt.hist(data.MEDV, bins=10)"
   ]
  },
  {
   "cell_type": "markdown",
   "metadata": {
    "ExecuteTime": {
     "end_time": "2020-01-30T14:29:43.789543Z",
     "start_time": "2020-01-30T14:29:43.781453Z"
    }
   },
   "source": [
    "### 3. Matrice de correlation"
   ]
  },
  {
   "cell_type": "code",
   "execution_count": 7,
   "metadata": {
    "ExecuteTime": {
     "end_time": "2020-01-30T18:07:48.945271Z",
     "start_time": "2020-01-30T18:07:48.482822Z"
    }
   },
   "outputs": [
    {
     "data": {
      "image/png": "[encoded data removed]",
      "text/plain": [
       "<Figure size 288x288 with 2 Axes>"
      ]
     },
     "metadata": {
      "needs_background": "light"
     },
     "output_type": "display_data"
    }
   ],
   "source": [
    "_ = plt.matshow(data.corr())\n",
    "_ = plt.xticks(range(data.shape[1]), data.columns, fontsize=14, rotation=90)\n",
    "_ = plt.yticks(range(data.shape[1]), data.columns, fontsize=14)\n",
    "_ = plt.colorbar()"
   ]
  },
  {
   "cell_type": "markdown",
   "metadata": {},
   "source": [
    "Les correlation ne semblent, dans l'ensemble, pas etre trop importantes"
   ]
  },
  {
   "cell_type": "markdown",
   "metadata": {},
   "source": [
    "### 4. Missing values"
   ]
  },
  {
   "cell_type": "code",
   "execution_count": 8,
   "metadata": {
    "ExecuteTime": {
     "end_time": "2020-01-30T18:07:48.966210Z",
     "start_time": "2020-01-30T18:07:48.950480Z"
    }
   },
   "outputs": [
    {
     "data": {
      "text/plain": [
       "151"
      ]
     },
     "execution_count": 8,
     "metadata": {},
     "output_type": "execute_result"
    }
   ],
   "source": [
    "# Nombre de valeurs manquantes\n",
    "data.isna().sum().sum()"
   ]
  },
  {
   "cell_type": "code",
   "execution_count": 9,
   "metadata": {
    "ExecuteTime": {
     "end_time": "2020-01-30T18:07:49.147486Z",
     "start_time": "2020-01-30T18:07:48.971217Z"
    }
   },
   "outputs": [
    {
     "data": {
      "text/plain": [
       "CRIM       21\n",
       "ZN         20\n",
       "INDUS      21\n",
       "CHAS       20\n",
       "NOX        18\n",
       "RM          1\n",
       "AGE        21\n",
       "DIS         4\n",
       "RAD         2\n",
       "TAX         2\n",
       "PTRATIO     0\n",
       "B           0\n",
       "LSTAT      21\n",
       "MEDV        0\n",
       "dtype: int64"
      ]
     },
     "execution_count": 9,
     "metadata": {},
     "output_type": "execute_result"
    }
   ],
   "source": [
    "# Proportion des valeurs manquantes\n",
    "data.isna().sum()"
   ]
  },
  {
   "cell_type": "code",
   "execution_count": 10,
   "metadata": {
    "ExecuteTime": {
     "end_time": "2020-01-30T18:07:49.244981Z",
     "start_time": "2020-01-30T18:07:49.156459Z"
    }
   },
   "outputs": [
    {
     "name": "stdout",
     "output_type": "stream",
     "text": [
      "11  columns sur 14  contiennent des valeurs manquates\n",
      "La solution sera donc de supprimer les lignes a valeurs manquantes\n"
     ]
    }
   ],
   "source": [
    "print(len(data.columns[data.isna().any()]),\" columns sur\", data.shape[1], \" contiennent des valeurs manquates\")\n",
    "print(\"La solution sera donc de supprimer les lignes a valeurs manquantes\")"
   ]
  },
  {
   "cell_type": "code",
   "execution_count": 11,
   "metadata": {
    "ExecuteTime": {
     "end_time": "2020-01-30T18:07:49.408877Z",
     "start_time": "2020-01-30T18:07:49.255330Z"
    }
   },
   "outputs": [
    {
     "data": {
      "text/plain": [
       "(383, 14)"
      ]
     },
     "execution_count": 11,
     "metadata": {},
     "output_type": "execute_result"
    }
   ],
   "source": [
    "# Suppression des NAs\n",
    "df = data.dropna()\n",
    "df.shape"
   ]
  },
  {
   "cell_type": "markdown",
   "metadata": {
    "ExecuteTime": {
     "end_time": "2020-01-30T18:36:49.640954Z",
     "start_time": "2020-01-30T18:36:49.632254Z"
    }
   },
   "source": [
    "On perd ainsi 151 lignes dans le jeu de donnees de base"
   ]
  },
  {
   "cell_type": "markdown",
   "metadata": {},
   "source": [
    "### 5. Base d'apprentissage et de test"
   ]
  },
  {
   "cell_type": "code",
   "execution_count": 12,
   "metadata": {
    "ExecuteTime": {
     "end_time": "2020-01-30T18:07:51.042205Z",
     "start_time": "2020-01-30T18:07:49.418579Z"
    }
   },
   "outputs": [
    {
     "data": {
      "text/plain": [
       "((306, 13), (77, 13))"
      ]
     },
     "execution_count": 12,
     "metadata": {},
     "output_type": "execute_result"
    }
   ],
   "source": [
    "from sklearn.model_selection import train_test_split\n",
    "\n",
    "# New data tp process\n",
    "y = df.MEDV\n",
    "X = df.drop(\"MEDV\", axis=1)\n",
    "\n",
    "# Train test split\n",
    "x_train, x_test, y_train, y_test = train_test_split(X, y, test_size=0.2, random_state=5)\n",
    "\n",
    "x_train.shape, x_test.shape"
   ]
  },
  {
   "cell_type": "markdown",
   "metadata": {},
   "source": [
    "### 6. Regression lineaire"
   ]
  },
  {
   "cell_type": "code",
   "execution_count": 13,
   "metadata": {
    "ExecuteTime": {
     "end_time": "2020-01-30T18:07:51.161300Z",
     "start_time": "2020-01-30T18:07:51.045153Z"
    }
   },
   "outputs": [],
   "source": [
    "from sklearn.linear_model import LinearRegression\n",
    "from sklearn.metrics import r2_score, mean_squared_error"
   ]
  },
  {
   "cell_type": "code",
   "execution_count": 14,
   "metadata": {
    "ExecuteTime": {
     "end_time": "2020-01-30T18:07:51.282812Z",
     "start_time": "2020-01-30T18:07:51.161300Z"
    }
   },
   "outputs": [
    {
     "data": {
      "text/plain": [
       "LSTAT      0.748101\n",
       "RM         0.723631\n",
       "PTRATIO    0.556146\n",
       "TAX        0.518889\n",
       "INDUS      0.515739\n",
       "NOX        0.463844\n",
       "RAD        0.424754\n",
       "AGE        0.413402\n",
       "ZN         0.405508\n",
       "CRIM       0.400638\n",
       "B          0.346883\n",
       "DIS        0.283125\n",
       "CHAS       0.172632\n",
       "Name: MEDV, dtype: float64"
      ]
     },
     "execution_count": 14,
     "metadata": {},
     "output_type": "execute_result"
    }
   ],
   "source": [
    "# Degree de orrelations a la variables de reponse\n",
    "dfcorr = df.corr().loc[\"MEDV\"].abs().sort_values(ascending=False).iloc[1:]; dfcorr"
   ]
  },
  {
   "cell_type": "code",
   "execution_count": 15,
   "metadata": {
    "ExecuteTime": {
     "end_time": "2020-01-30T18:07:53.382332Z",
     "start_time": "2020-01-30T18:07:51.294085Z"
    }
   },
   "outputs": [],
   "source": [
    "# Module de test statistique\n",
    "import statsmodels.api as sm"
   ]
  },
  {
   "cell_type": "markdown",
   "metadata": {},
   "source": [
    "### 6.1. Les correlation <span style=\"color:red\"> >= 0.7</span>"
   ]
  },
  {
   "cell_type": "code",
   "execution_count": 16,
   "metadata": {
    "ExecuteTime": {
     "end_time": "2020-01-30T18:07:53.414108Z",
     "start_time": "2020-01-30T18:07:53.388036Z"
    }
   },
   "outputs": [
    {
     "data": {
      "text/plain": [
       "21.088231997818227"
      ]
     },
     "execution_count": 16,
     "metadata": {},
     "output_type": "execute_result"
    }
   ],
   "source": [
    "model_cols_1 = list(dfcorr.index)[:2]\n",
    "lr_1 = LinearRegression().fit(x_train[model_cols_1], y_train)\n",
    "mean_squared_error(y_test, lr_1.predict(x_test[model_cols_1]))"
   ]
  },
  {
   "cell_type": "code",
   "execution_count": 17,
   "metadata": {
    "ExecuteTime": {
     "end_time": "2020-01-30T18:07:53.625340Z",
     "start_time": "2020-01-30T18:07:53.420621Z"
    }
   },
   "outputs": [
    {
     "name": "stdout",
     "output_type": "stream",
     "text": [
      "                            OLS Regression Results                            \n",
      "==============================================================================\n",
      "Dep. Variable:                   MEDV   R-squared:                       0.659\n",
      "Model:                            OLS   Adj. R-squared:                  0.656\n",
      "Method:                 Least Squares   F-statistic:                     292.2\n",
      "Date:                Thu, 30 Jan 2020   Prob (F-statistic):           2.00e-71\n",
      "Time:                        19:07:53   Log-Likelihood:                -960.64\n",
      "No. Observations:                 306   AIC:                             1927.\n",
      "Df Residuals:                     303   BIC:                             1938.\n",
      "Df Model:                           2                                         \n",
      "Covariance Type:            nonrobust                                         \n",
      "==============================================================================\n",
      "                 coef    std err          t      P>|t|      [0.025      0.975]\n",
      "------------------------------------------------------------------------------\n",
      "const         -9.0361      4.386     -2.060      0.040     -17.666      -0.406\n",
      "LSTAT         -0.5588      0.058     -9.588      0.000      -0.674      -0.444\n",
      "RM             6.1381      0.607     10.109      0.000       4.943       7.333\n",
      "==============================================================================\n",
      "Omnibus:                       90.142   Durbin-Watson:                   2.063\n",
      "Prob(Omnibus):                  0.000   Jarque-Bera (JB):              304.576\n",
      "Skew:                           1.263   Prob(JB):                     7.28e-67\n",
      "Kurtosis:                       7.184   Cond. No.                         214.\n",
      "==============================================================================\n",
      "\n",
      "Warnings:\n",
      "[1] Standard Errors assume that the covariance matrix of the errors is correctly specified.\n"
     ]
    }
   ],
   "source": [
    "# Test statistique\n",
    "x1 = sm.add_constant(x_train[model_cols_1])\n",
    "estimator = sm.OLS(y_train, x1)\n",
    "estimator = estimator.fit()\n",
    "print(estimator.summary())"
   ]
  },
  {
   "cell_type": "markdown",
   "metadata": {},
   "source": [
    "Le test montre que les variables sont hautement significatives (p-values <0.05)"
   ]
  },
  {
   "cell_type": "markdown",
   "metadata": {},
   "source": [
    "### 6.2. Les correlations dans l'intervalle <span style=\"color:red\"> >= 0.5</span>"
   ]
  },
  {
   "cell_type": "code",
   "execution_count": 18,
   "metadata": {
    "ExecuteTime": {
     "end_time": "2020-01-30T18:07:53.736128Z",
     "start_time": "2020-01-30T18:07:53.630360Z"
    }
   },
   "outputs": [
    {
     "data": {
      "text/plain": [
       "19.19106692903672"
      ]
     },
     "execution_count": 18,
     "metadata": {},
     "output_type": "execute_result"
    }
   ],
   "source": [
    "model_cols_2 = list(dfcorr.index)[:5]\n",
    "lr_1 = LinearRegression().fit(x_train[model_cols_2], y_train)\n",
    "mean_squared_error(y_test, lr_1.predict(x_test[model_cols_2]))"
   ]
  },
  {
   "cell_type": "code",
   "execution_count": 19,
   "metadata": {
    "ExecuteTime": {
     "end_time": "2020-01-30T18:07:53.902750Z",
     "start_time": "2020-01-30T18:07:53.743936Z"
    }
   },
   "outputs": [
    {
     "name": "stdout",
     "output_type": "stream",
     "text": [
      "                            OLS Regression Results                            \n",
      "==============================================================================\n",
      "Dep. Variable:                   MEDV   R-squared:                       0.709\n",
      "Model:                            OLS   Adj. R-squared:                  0.704\n",
      "Method:                 Least Squares   F-statistic:                     146.3\n",
      "Date:                Thu, 30 Jan 2020   Prob (F-statistic):           2.91e-78\n",
      "Time:                        19:07:53   Log-Likelihood:                -936.07\n",
      "No. Observations:                 306   AIC:                             1884.\n",
      "Df Residuals:                     300   BIC:                             1906.\n",
      "Df Model:                           5                                         \n",
      "Covariance Type:            nonrobust                                         \n",
      "==============================================================================\n",
      "                 coef    std err          t      P>|t|      [0.025      0.975]\n",
      "------------------------------------------------------------------------------\n",
      "const         10.7373      5.372      1.999      0.047       0.165      21.309\n",
      "LSTAT         -0.4155      0.064     -6.469      0.000      -0.542      -0.289\n",
      "RM             5.6795      0.584      9.732      0.000       4.531       6.828\n",
      "PTRATIO       -0.8770      0.159     -5.509      0.000      -1.190      -0.564\n",
      "TAX           -0.0073      0.003     -2.606      0.010      -0.013      -0.002\n",
      "INDUS          0.0469      0.066      0.711      0.478      -0.083       0.177\n",
      "==============================================================================\n",
      "Omnibus:                      154.198   Durbin-Watson:                   2.014\n",
      "Prob(Omnibus):                  0.000   Jarque-Bera (JB):             1115.364\n",
      "Skew:                           1.948   Prob(JB):                    6.34e-243\n",
      "Kurtosis:                      11.503   Cond. No.                     7.98e+03\n",
      "==============================================================================\n",
      "\n",
      "Warnings:\n",
      "[1] Standard Errors assume that the covariance matrix of the errors is correctly specified.\n",
      "[2] The condition number is large, 7.98e+03. This might indicate that there are\n",
      "strong multicollinearity or other numerical problems.\n"
     ]
    }
   ],
   "source": [
    "# Test statistique\n",
    "x1 = sm.add_constant(x_train[model_cols_2])\n",
    "estimator = sm.OLS(y_train, x1)\n",
    "estimator = estimator.fit()\n",
    "print(estimator.summary())"
   ]
  },
  {
   "cell_type": "markdown",
   "metadata": {},
   "source": [
    "La variables **indus** ne s'avere pas importante"
   ]
  },
  {
   "cell_type": "markdown",
   "metadata": {},
   "source": [
    "### 6.4. Les correlations dans l'intervalle <span style=\"color:red\"> >= 0.4</span>"
   ]
  },
  {
   "cell_type": "code",
   "execution_count": 20,
   "metadata": {
    "ExecuteTime": {
     "end_time": "2020-01-30T18:07:54.019816Z",
     "start_time": "2020-01-30T18:07:53.908990Z"
    }
   },
   "outputs": [
    {
     "data": {
      "text/plain": [
       "17.539376376174275"
      ]
     },
     "execution_count": 20,
     "metadata": {},
     "output_type": "execute_result"
    }
   ],
   "source": [
    "model_cols_3 = list(dfcorr.index)[:10]\n",
    "lr_1 = LinearRegression().fit(x_train[model_cols_3], y_train)\n",
    "mean_squared_error(y_test, lr_1.predict(x_test[model_cols_3]))"
   ]
  },
  {
   "cell_type": "code",
   "execution_count": 21,
   "metadata": {
    "ExecuteTime": {
     "end_time": "2020-01-30T18:07:54.186326Z",
     "start_time": "2020-01-30T18:07:54.026483Z"
    }
   },
   "outputs": [
    {
     "name": "stdout",
     "output_type": "stream",
     "text": [
      "                            OLS Regression Results                            \n",
      "==============================================================================\n",
      "Dep. Variable:                   MEDV   R-squared:                       0.721\n",
      "Model:                            OLS   Adj. R-squared:                  0.711\n",
      "Method:                 Least Squares   F-statistic:                     76.08\n",
      "Date:                Thu, 30 Jan 2020   Prob (F-statistic):           1.20e-75\n",
      "Time:                        19:07:54   Log-Likelihood:                -929.96\n",
      "No. Observations:                 306   AIC:                             1882.\n",
      "Df Residuals:                     295   BIC:                             1923.\n",
      "Df Model:                          10                                         \n",
      "Covariance Type:            nonrobust                                         \n",
      "==============================================================================\n",
      "                 coef    std err          t      P>|t|      [0.025      0.975]\n",
      "------------------------------------------------------------------------------\n",
      "const         21.6794      6.611      3.279      0.001       8.668      34.691\n",
      "LSTAT         -0.4007      0.072     -5.537      0.000      -0.543      -0.258\n",
      "RM             5.3830      0.619      8.701      0.000       4.165       6.600\n",
      "PTRATIO       -1.0637      0.179     -5.955      0.000      -1.415      -0.712\n",
      "TAX           -0.0175      0.005     -3.426      0.001      -0.028      -0.007\n",
      "INDUS          0.1614      0.082      1.973      0.049       0.000       0.322\n",
      "NOX          -11.4481      5.422     -2.111      0.036     -22.119      -0.777\n",
      "RAD            0.2794      0.091      3.079      0.002       0.101       0.458\n",
      "AGE            0.0143      0.017      0.826      0.409      -0.020       0.048\n",
      "ZN             0.0029      0.017      0.173      0.863      -0.030       0.036\n",
      "CRIM          -0.0603      0.047     -1.271      0.205      -0.154       0.033\n",
      "==============================================================================\n",
      "Omnibus:                      148.403   Durbin-Watson:                   1.950\n",
      "Prob(Omnibus):                  0.000   Jarque-Bera (JB):              985.065\n",
      "Skew:                           1.890   Prob(JB):                    1.25e-214\n",
      "Kurtosis:                      10.935   Cond. No.                     1.12e+04\n",
      "==============================================================================\n",
      "\n",
      "Warnings:\n",
      "[1] Standard Errors assume that the covariance matrix of the errors is correctly specified.\n",
      "[2] The condition number is large, 1.12e+04. This might indicate that there are\n",
      "strong multicollinearity or other numerical problems.\n"
     ]
    }
   ],
   "source": [
    "# Test statistique\n",
    "x1 = sm.add_constant(x_train[model_cols_3])\n",
    "estimator = sm.OLS(y_train, x1)\n",
    "estimator = estimator.fit()\n",
    "print(estimator.summary())"
   ]
  },
  {
   "cell_type": "markdown",
   "metadata": {},
   "source": [
    "Les variables AGE, ZN et CRIM sont inutiles cette fois"
   ]
  },
  {
   "cell_type": "markdown",
   "metadata": {},
   "source": [
    "### 6.5. Model avec toutes les variables"
   ]
  },
  {
   "cell_type": "code",
   "execution_count": 22,
   "metadata": {
    "ExecuteTime": {
     "end_time": "2020-01-30T18:07:54.319265Z",
     "start_time": "2020-01-30T18:07:54.187328Z"
    }
   },
   "outputs": [
    {
     "data": {
      "text/plain": [
       "15.652021933931632"
      ]
     },
     "execution_count": 22,
     "metadata": {},
     "output_type": "execute_result"
    }
   ],
   "source": [
    "lr_1 = LinearRegression().fit(x_train, y_train)\n",
    "mean_squared_error(y_test, lr_1.predict(x_test))"
   ]
  },
  {
   "cell_type": "code",
   "execution_count": 23,
   "metadata": {
    "ExecuteTime": {
     "end_time": "2020-01-30T18:07:54.453296Z",
     "start_time": "2020-01-30T18:07:54.325770Z"
    }
   },
   "outputs": [
    {
     "name": "stdout",
     "output_type": "stream",
     "text": [
      "                            OLS Regression Results                            \n",
      "==============================================================================\n",
      "Dep. Variable:                   MEDV   R-squared:                       0.766\n",
      "Model:                            OLS   Adj. R-squared:                  0.756\n",
      "Method:                 Least Squares   F-statistic:                     73.66\n",
      "Date:                Thu, 30 Jan 2020   Prob (F-statistic):           4.86e-84\n",
      "Time:                        19:07:54   Log-Likelihood:                -902.62\n",
      "No. Observations:                 306   AIC:                             1833.\n",
      "Df Residuals:                     292   BIC:                             1885.\n",
      "Df Model:                          13                                         \n",
      "Covariance Type:            nonrobust                                         \n",
      "==============================================================================\n",
      "                 coef    std err          t      P>|t|      [0.025      0.975]\n",
      "------------------------------------------------------------------------------\n",
      "const         28.6848      6.914      4.149      0.000      15.077      42.293\n",
      "CRIM          -0.0657      0.044     -1.481      0.140      -0.153       0.022\n",
      "ZN             0.0363      0.017      2.186      0.030       0.004       0.069\n",
      "INDUS          0.0486      0.077      0.630      0.529      -0.103       0.200\n",
      "CHAS           3.2424      1.083      2.993      0.003       1.110       5.374\n",
      "NOX          -20.0012      5.194     -3.851      0.000     -30.224      -9.778\n",
      "RM             5.0431      0.585      8.618      0.000       3.891       6.195\n",
      "AGE           -0.0170      0.017     -1.027      0.305      -0.050       0.016\n",
      "DIS           -1.4035      0.239     -5.873      0.000      -1.874      -0.933\n",
      "RAD            0.2870      0.084      3.406      0.001       0.121       0.453\n",
      "TAX           -0.0154      0.005     -3.264      0.001      -0.025      -0.006\n",
      "PTRATIO       -0.9312      0.165     -5.628      0.000      -1.257      -0.606\n",
      "B              0.0110      0.004      3.142      0.002       0.004       0.018\n",
      "LSTAT         -0.3425      0.069     -4.978      0.000      -0.478      -0.207\n",
      "==============================================================================\n",
      "Omnibus:                      132.299   Durbin-Watson:                   2.086\n",
      "Prob(Omnibus):                  0.000   Jarque-Bera (JB):              822.956\n",
      "Skew:                           1.662   Prob(JB):                    1.98e-179\n",
      "Kurtosis:                      10.314   Cond. No.                     1.58e+04\n",
      "==============================================================================\n",
      "\n",
      "Warnings:\n",
      "[1] Standard Errors assume that the covariance matrix of the errors is correctly specified.\n",
      "[2] The condition number is large, 1.58e+04. This might indicate that there are\n",
      "strong multicollinearity or other numerical problems.\n"
     ]
    }
   ],
   "source": [
    "# Test statistique\n",
    "x1 = sm.add_constant(x_train)\n",
    "estimator = sm.OLS(y_train, x1)\n",
    "estimator = estimator.fit()\n",
    "print(estimator.summary())"
   ]
  },
  {
   "cell_type": "markdown",
   "metadata": {
    "ExecuteTime": {
     "end_time": "2020-01-30T18:44:26.770875Z",
     "start_time": "2020-01-30T18:44:26.764089Z"
    }
   },
   "source": [
    "Dans le model complet seules les varaibles **CRIM, INDUS et AGE** ne sont pas significatives"
   ]
  },
  {
   "cell_type": "markdown",
   "metadata": {
    "ExecuteTime": {
     "end_time": "2020-01-30T15:39:04.971555Z",
     "start_time": "2020-01-30T15:39:04.964213Z"
    }
   },
   "source": [
    "### 7. Test de models non lineaires"
   ]
  },
  {
   "cell_type": "code",
   "execution_count": 24,
   "metadata": {
    "ExecuteTime": {
     "end_time": "2020-01-30T18:07:54.700936Z",
     "start_time": "2020-01-30T18:07:54.463000Z"
    }
   },
   "outputs": [
    {
     "name": "stderr",
     "output_type": "stream",
     "text": [
      "C:\\Users\\Alkarid\\Anaconda3\\lib\\site-packages\\sklearn\\ensemble\\weight_boosting.py:29: DeprecationWarning: numpy.core.umath_tests is an internal NumPy module and should not be imported. It will be removed in a future NumPy release.\n",
      "  from numpy.core.umath_tests import inner1d\n"
     ]
    },
    {
     "data": {
      "text/plain": [
       "9.158627272727275"
      ]
     },
     "execution_count": 24,
     "metadata": {},
     "output_type": "execute_result"
    }
   ],
   "source": [
    "# Random Forest\n",
    "from sklearn.ensemble import RandomForestRegressor\n",
    "rf = RandomForestRegressor(random_state=5).fit(x_train, y_train)\n",
    "mean_squared_error(y_test, rf.predict(x_test))"
   ]
  },
  {
   "cell_type": "code",
   "execution_count": 25,
   "metadata": {
    "ExecuteTime": {
     "end_time": "2020-01-30T18:07:54.738023Z",
     "start_time": "2020-01-30T18:07:54.707650Z"
    }
   },
   "outputs": [
    {
     "data": {
      "text/plain": [
       "55.475765548958854"
      ]
     },
     "execution_count": 25,
     "metadata": {},
     "output_type": "execute_result"
    }
   ],
   "source": [
    "# SVM\n",
    "from sklearn.svm import SVR\n",
    "svr = SVR().fit(x_train, y_train)\n",
    "mean_squared_error(y_test, svr.predict(x_test))"
   ]
  },
  {
   "cell_type": "markdown",
   "metadata": {},
   "source": [
    "### Cross validation Random Forest"
   ]
  },
  {
   "cell_type": "code",
   "execution_count": 26,
   "metadata": {
    "ExecuteTime": {
     "end_time": "2020-01-30T18:08:21.949251Z",
     "start_time": "2020-01-30T18:07:54.742606Z"
    }
   },
   "outputs": [
    {
     "data": {
      "text/plain": [
       "{'max_depth': 20, 'n_estimators': 70}"
      ]
     },
     "execution_count": 26,
     "metadata": {},
     "output_type": "execute_result"
    }
   ],
   "source": [
    "from sklearn.model_selection import cross_val_score, GridSearchCV\n",
    "parameters = {'n_estimators':[10,20,50,70,100,150], 'max_depth':[3, 7, 15, 20]}\n",
    "grid_rf = GridSearchCV(RandomForestRegressor(random_state=5), parameters).fit(x_train, y_train)\n",
    "grid_rf.best_params_"
   ]
  },
  {
   "cell_type": "code",
   "execution_count": 27,
   "metadata": {
    "ExecuteTime": {
     "end_time": "2020-01-30T18:08:21.993863Z",
     "start_time": "2020-01-30T18:08:21.954844Z"
    }
   },
   "outputs": [
    {
     "data": {
      "text/plain": [
       "8.294119745560565"
      ]
     },
     "execution_count": 27,
     "metadata": {},
     "output_type": "execute_result"
    }
   ],
   "source": [
    "mean_squared_error(y_test,grid_rf.predict(x_test))"
   ]
  },
  {
   "cell_type": "markdown",
   "metadata": {},
   "source": [
    "### Cross validation SVM"
   ]
  },
  {
   "cell_type": "code",
   "execution_count": 28,
   "metadata": {
    "ExecuteTime": {
     "end_time": "2020-01-30T18:12:27.569001Z",
     "start_time": "2020-01-30T18:08:22.001956Z"
    }
   },
   "outputs": [
    {
     "data": {
      "text/plain": [
       "{'C': 1, 'kernel': 'linear'}"
      ]
     },
     "execution_count": 28,
     "metadata": {},
     "output_type": "execute_result"
    }
   ],
   "source": [
    "parameters = {'kernel':('linear', 'rbf'), 'C':[1, 10, 15, 20]}\n",
    "grid_svr = GridSearchCV(SVR(), parameters).fit(x_train, y_train)\n",
    "grid_svr.best_params_"
   ]
  },
  {
   "cell_type": "code",
   "execution_count": 29,
   "metadata": {
    "ExecuteTime": {
     "end_time": "2020-01-30T18:12:27.592977Z",
     "start_time": "2020-01-30T18:12:27.574730Z"
    }
   },
   "outputs": [
    {
     "data": {
      "text/plain": [
       "16.131511774712383"
      ]
     },
     "execution_count": 29,
     "metadata": {},
     "output_type": "execute_result"
    }
   ],
   "source": [
    "mean_squared_error(y_test,grid_svr.predict(x_test))"
   ]
  }
 ],
 "metadata": {
  "kernelspec": {
   "display_name": "Python 3",
   "language": "python",
   "name": "python3"
  },
  "language_info": {
   "codemirror_mode": {
    "name": "ipython",
    "version": 3
   },
   "file_extension": ".py",
   "mimetype": "text/x-python",
   "name": "python",
   "nbconvert_exporter": "python",
   "pygments_lexer": "ipython3",
   "version": "3.7.0"
  },
  "varInspector": {
   "cols": {
    "lenName": 16,
    "lenType": 16,
    "lenVar": 40
   },
   "kernels_config": {
    "python": {
     "delete_cmd_postfix": "",
     "delete_cmd_prefix": "del ",
     "library": "var_list.py",
     "varRefreshCmd": "print(var_dic_list())"
    },
    "r": {
     "delete_cmd_postfix": ") ",
     "delete_cmd_prefix": "rm(",
     "library": "var_list.r",
     "varRefreshCmd": "cat(var_dic_list()) "
    }
   },
   "types_to_exclude": [
    "module",
    "function",
    "builtin_function_or_method",
    "instance",
    "_Feature"
   ],
   "window_display": false
  }
 },
 "nbformat": 4,
 "nbformat_minor": 2
}
