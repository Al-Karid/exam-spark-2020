{
 "cells": [
  {
   "cell_type": "code",
   "execution_count": 1,
   "metadata": {
    "ExecuteTime": {
     "end_time": "2020-01-30T16:54:30.228879Z",
     "start_time": "2020-01-30T16:54:28.398213Z"
    }
   },
   "outputs": [],
   "source": [
    "import numpy as np\n",
    "import pandas as pd\n",
    "import matplotlib.pyplot as plt"
   ]
  },
  {
   "cell_type": "code",
   "execution_count": 2,
   "metadata": {
    "ExecuteTime": {
     "end_time": "2020-01-30T16:54:30.300851Z",
     "start_time": "2020-01-30T16:54:30.233773Z"
    }
   },
   "outputs": [],
   "source": [
    "data = pd.read_csv(\"data/african_crises.csv\", sep=\";\")"
   ]
  },
  {
   "cell_type": "markdown",
   "metadata": {},
   "source": [
    "### 1. Inventaire des variables"
   ]
  },
  {
   "cell_type": "code",
   "execution_count": 3,
   "metadata": {
    "ExecuteTime": {
     "end_time": "2020-01-30T16:54:30.354003Z",
     "start_time": "2020-01-30T16:54:30.304221Z"
    }
   },
   "outputs": [
    {
     "data": {
      "text/plain": [
       "{'Dimensions du tableau': (1059, 12), 'nombre pays distincts': 13}"
      ]
     },
     "execution_count": 3,
     "metadata": {},
     "output_type": "execute_result"
    }
   ],
   "source": [
    "# Nombre de lignes et de columns\n",
    "{\"Dimensions du tableau\":data.shape, \"nombre pays distincts\": len(data.country.unique())}"
   ]
  },
  {
   "cell_type": "code",
   "execution_count": 4,
   "metadata": {
    "ExecuteTime": {
     "end_time": "2020-01-30T16:54:30.450933Z",
     "start_time": "2020-01-30T16:54:30.359680Z"
    }
   },
   "outputs": [
    {
     "data": {
      "text/plain": [
       "country                             object\n",
       "year                                 int64\n",
       "systemic_crisis                      int64\n",
       "exch_usd                           float64\n",
       "domestic_debt_in_default             int64\n",
       "sovereign_external_debt_default      int64\n",
       "gdp_weighted_default               float64\n",
       "inflation_annual_cpi               float64\n",
       "independence                         int64\n",
       "currency_crises                      int64\n",
       "inflation_crises                     int64\n",
       "banking_crisis                      object\n",
       "dtype: object"
      ]
     },
     "execution_count": 4,
     "metadata": {},
     "output_type": "execute_result"
    }
   ],
   "source": [
    "# Les types de variables\n",
    "data.dtypes"
   ]
  },
  {
   "cell_type": "markdown",
   "metadata": {},
   "source": [
    "Il y a 2 variables de type <span style=\"color:red\">Object</span> qui sont en fait des variables <span style=\"color:red\">qualitatives</span>; parmis ces variables figure la variable target <b>banking_crisis</b>. Les autres, 10, variables sont <span style=\"color:blue\">Numeriques</span>."
   ]
  },
  {
   "cell_type": "code",
   "execution_count": 5,
   "metadata": {
    "ExecuteTime": {
     "end_time": "2020-01-30T16:54:30.532471Z",
     "start_time": "2020-01-30T16:54:30.454238Z"
    }
   },
   "outputs": [
    {
     "data": {
      "text/plain": [
       "Index([], dtype='object')"
      ]
     },
     "execution_count": 5,
     "metadata": {},
     "output_type": "execute_result"
    }
   ],
   "source": [
    "# Aucune donnee manquante dans le jeu\n",
    "data.columns[data.isna().any()]"
   ]
  },
  {
   "cell_type": "markdown",
   "metadata": {},
   "source": [
    "### 2. Essai de reponse"
   ]
  },
  {
   "cell_type": "markdown",
   "metadata": {},
   "source": [
    "On peut y utiliser:\n",
    "1. Une regression logistique\n",
    "2. Une foret aleatoire, randomForest\n",
    "3. Une classification a l'aide des surpport vectors machines"
   ]
  },
  {
   "cell_type": "markdown",
   "metadata": {},
   "source": [
    "### 3. Codage du nom des pays"
   ]
  },
  {
   "cell_type": "code",
   "execution_count": 6,
   "metadata": {
    "ExecuteTime": {
     "end_time": "2020-01-30T16:54:30.663705Z",
     "start_time": "2020-01-30T16:54:30.536598Z"
    }
   },
   "outputs": [],
   "source": [
    "countries_ind = {x:x[:2] for x in data.country.unique()}\n",
    "df = data.replace({\"country\":countries_ind})"
   ]
  },
  {
   "cell_type": "code",
   "execution_count": 7,
   "metadata": {
    "ExecuteTime": {
     "end_time": "2020-01-30T16:54:39.123046Z",
     "start_time": "2020-01-30T16:54:39.094707Z"
    }
   },
   "outputs": [
    {
     "data": {
      "text/html": [
       "<div>\n",
       "<style scoped>\n",
       "    .dataframe tbody tr th:only-of-type {\n",
       "        vertical-align: middle;\n",
       "    }\n",
       "\n",
       "    .dataframe tbody tr th {\n",
       "        vertical-align: top;\n",
       "    }\n",
       "\n",
       "    .dataframe thead th {\n",
       "        text-align: right;\n",
       "    }\n",
       "</style>\n",
       "<table border=\"1\" class=\"dataframe\">\n",
       "  <thead>\n",
       "    <tr style=\"text-align: right;\">\n",
       "      <th></th>\n",
       "      <th>country</th>\n",
       "      <th>year</th>\n",
       "      <th>systemic_crisis</th>\n",
       "      <th>exch_usd</th>\n",
       "      <th>domestic_debt_in_default</th>\n",
       "      <th>sovereign_external_debt_default</th>\n",
       "      <th>gdp_weighted_default</th>\n",
       "      <th>inflation_annual_cpi</th>\n",
       "      <th>independence</th>\n",
       "      <th>currency_crises</th>\n",
       "      <th>inflation_crises</th>\n",
       "      <th>banking_crisis</th>\n",
       "    </tr>\n",
       "  </thead>\n",
       "  <tbody>\n",
       "    <tr>\n",
       "      <th>0</th>\n",
       "      <td>Al</td>\n",
       "      <td>1870</td>\n",
       "      <td>1</td>\n",
       "      <td>0.052264</td>\n",
       "      <td>0</td>\n",
       "      <td>0</td>\n",
       "      <td>0.0</td>\n",
       "      <td>3.441456</td>\n",
       "      <td>0</td>\n",
       "      <td>0</td>\n",
       "      <td>0</td>\n",
       "      <td>crisis</td>\n",
       "    </tr>\n",
       "    <tr>\n",
       "      <th>1</th>\n",
       "      <td>Al</td>\n",
       "      <td>1871</td>\n",
       "      <td>0</td>\n",
       "      <td>0.052798</td>\n",
       "      <td>0</td>\n",
       "      <td>0</td>\n",
       "      <td>0.0</td>\n",
       "      <td>14.149140</td>\n",
       "      <td>0</td>\n",
       "      <td>0</td>\n",
       "      <td>0</td>\n",
       "      <td>no_crisis</td>\n",
       "    </tr>\n",
       "    <tr>\n",
       "      <th>2</th>\n",
       "      <td>Al</td>\n",
       "      <td>1872</td>\n",
       "      <td>0</td>\n",
       "      <td>0.052274</td>\n",
       "      <td>0</td>\n",
       "      <td>0</td>\n",
       "      <td>0.0</td>\n",
       "      <td>-3.718593</td>\n",
       "      <td>0</td>\n",
       "      <td>0</td>\n",
       "      <td>0</td>\n",
       "      <td>no_crisis</td>\n",
       "    </tr>\n",
       "  </tbody>\n",
       "</table>\n",
       "</div>"
      ],
      "text/plain": [
       "  country  year  systemic_crisis  exch_usd  domestic_debt_in_default  \\\n",
       "0      Al  1870                1  0.052264                         0   \n",
       "1      Al  1871                0  0.052798                         0   \n",
       "2      Al  1872                0  0.052274                         0   \n",
       "\n",
       "   sovereign_external_debt_default  gdp_weighted_default  \\\n",
       "0                                0                   0.0   \n",
       "1                                0                   0.0   \n",
       "2                                0                   0.0   \n",
       "\n",
       "   inflation_annual_cpi  independence  currency_crises  inflation_crises  \\\n",
       "0              3.441456             0                0                 0   \n",
       "1             14.149140             0                0                 0   \n",
       "2             -3.718593             0                0                 0   \n",
       "\n",
       "  banking_crisis  \n",
       "0         crisis  \n",
       "1      no_crisis  \n",
       "2      no_crisis  "
      ]
     },
     "execution_count": 7,
     "metadata": {},
     "output_type": "execute_result"
    }
   ],
   "source": [
    "df.head(3)"
   ]
  },
  {
   "cell_type": "markdown",
   "metadata": {},
   "source": [
    "### 4. Proportion de risques crises"
   ]
  },
  {
   "cell_type": "markdown",
   "metadata": {},
   "source": [
    "### 4.1 Dumification"
   ]
  },
  {
   "cell_type": "code",
   "execution_count": 9,
   "metadata": {
    "ExecuteTime": {
     "end_time": "2020-01-30T16:57:31.686816Z",
     "start_time": "2020-01-30T16:57:31.511320Z"
    }
   },
   "outputs": [],
   "source": [
    "# Dummification des variables qualitatives\n",
    "df_dummy = pd.get_dummies(df)"
   ]
  },
  {
   "cell_type": "markdown",
   "metadata": {},
   "source": [
    "### 4.2 Proportion de crises dans les observations"
   ]
  },
  {
   "cell_type": "markdown",
   "metadata": {
    "ExecuteTime": {
     "end_time": "2020-01-30T17:22:05.895206Z",
     "start_time": "2020-01-30T17:22:05.887367Z"
    }
   },
   "source": [
    "a. <span style=\"color:blue\">Proportions de crises par pays en %</span>"
   ]
  },
  {
   "cell_type": "code",
   "execution_count": 48,
   "metadata": {
    "ExecuteTime": {
     "end_time": "2020-01-30T17:13:35.108330Z",
     "start_time": "2020-01-30T17:13:35.092625Z"
    }
   },
   "outputs": [
    {
     "data": {
      "text/plain": [
       "country\n",
       "Algeria                      4.705882\n",
       "Angola                       9.090909\n",
       "Central African Republic    32.758621\n",
       "Egypt                        7.096774\n",
       "Ivory Coast                  6.349206\n",
       "Kenya                       11.940299\n",
       "Mauritius                    1.470588\n",
       "Morocco                      2.666667\n",
       "Nigeria                     18.333333\n",
       "South Africa                 2.631579\n",
       "Tunisia                      6.666667\n",
       "Zambia                       5.555556\n",
       "Zimbabwe                    16.666667\n",
       "Name: crisis, dtype: float64"
      ]
     },
     "execution_count": 48,
     "metadata": {},
     "output_type": "execute_result"
    }
   ],
   "source": [
    "# Proportions de crises par pays %\n",
    "tmp = data.drop(\"banking_crisis\", axis=1)\n",
    "tmp[\"crisis\"] = pd.get_dummies(df.banking_crisis)[\"crisis\"]\n",
    "tmp.groupby(by=[\"country\"])[\"crisis\"].mean()*100"
   ]
  },
  {
   "cell_type": "markdown",
   "metadata": {},
   "source": [
    "b. <span style=\"color:blue\">Proportion de crise par annnees en %</span>"
   ]
  },
  {
   "cell_type": "code",
   "execution_count": 50,
   "metadata": {
    "ExecuteTime": {
     "end_time": "2020-01-30T17:18:29.053882Z",
     "start_time": "2020-01-30T17:18:29.038655Z"
    },
    "scrolled": true
   },
   "outputs": [
    {
     "data": {
      "text/plain": [
       "year\n",
       "1870    50.000000\n",
       "1907    50.000000\n",
       "1931    25.000000\n",
       "1976     7.692308\n",
       "1977    15.384615\n",
       "1978    15.384615\n",
       "1979     7.692308\n",
       "1980     7.692308\n",
       "1981    16.666667\n",
       "1982    16.666667\n",
       "1983    16.666667\n",
       "1984     8.333333\n",
       "1985     8.333333\n",
       "1986     8.333333\n",
       "1987     8.333333\n",
       "1988    25.000000\n",
       "1989    25.000000\n",
       "1990    33.333333\n",
       "1991    41.666667\n",
       "1992    53.846154\n",
       "1993    46.153846\n",
       "1994    46.153846\n",
       "1995    61.538462\n",
       "1996    38.461538\n",
       "1997    38.461538\n",
       "1998    30.769231\n",
       "1999    15.384615\n",
       "2000     7.692308\n",
       "2001     7.692308\n",
       "2002     7.692308\n",
       "2003     7.692308\n",
       "2004     7.692308\n",
       "2005     7.692308\n",
       "2006     7.692308\n",
       "2007     7.692308\n",
       "2008     7.692308\n",
       "2009    15.384615\n",
       "2010     7.692308\n",
       "2011     7.692308\n",
       "2012     7.692308\n",
       "2013     7.692308\n",
       "2014     9.090909\n",
       "Name: crisis, dtype: float64"
      ]
     },
     "execution_count": 50,
     "metadata": {},
     "output_type": "execute_result"
    }
   ],
   "source": [
    "# Proportion de crise par annnees en %\n",
    "tmp = data.drop(\"banking_crisis\", axis=1)\n",
    "tmp[\"crisis\"] = pd.get_dummies(df.banking_crisis)[\"crisis\"]\n",
    "yearly_crisis = tmp.groupby(by=[\"year\"])[\"crisis\"].mean()*100\n",
    "\n",
    "# Liste des taux de crise sans les proportion nulles\n",
    "yearly_crisis.iloc[yearly_crisis.nonzero()]"
   ]
  },
  {
   "cell_type": "markdown",
   "metadata": {},
   "source": [
    "### 4.3 Matrice des donnees"
   ]
  },
  {
   "cell_type": "code",
   "execution_count": 54,
   "metadata": {
    "ExecuteTime": {
     "end_time": "2020-01-30T17:26:10.445017Z",
     "start_time": "2020-01-30T17:26:10.426677Z"
    }
   },
   "outputs": [
    {
     "data": {
      "text/plain": [
       "((847, 23), (212, 23))"
      ]
     },
     "execution_count": 54,
     "metadata": {},
     "output_type": "execute_result"
    }
   ],
   "source": [
    "from sklearn.model_selection import train_test_split\n",
    "\n",
    "# New data tp process\n",
    "y = df_dummy.banking_crisis_crisis\n",
    "X = df_dummy.drop([\"banking_crisis_crisis\",\"banking_crisis_no_crisis\"], axis=1)\n",
    "\n",
    "# Train test split\n",
    "x_train, x_test, y_train, y_test = train_test_split(X, y, test_size=0.2, random_state=5)\n",
    "\n",
    "x_train.shape, x_test.shape"
   ]
  }
 ],
 "metadata": {
  "kernelspec": {
   "display_name": "Python 3",
   "language": "python",
   "name": "python3"
  },
  "language_info": {
   "codemirror_mode": {
    "name": "ipython",
    "version": 3
   },
   "file_extension": ".py",
   "mimetype": "text/x-python",
   "name": "python",
   "nbconvert_exporter": "python",
   "pygments_lexer": "ipython3",
   "version": "3.7.0"
  },
  "varInspector": {
   "cols": {
    "lenName": 16,
    "lenType": 16,
    "lenVar": 40
   },
   "kernels_config": {
    "python": {
     "delete_cmd_postfix": "",
     "delete_cmd_prefix": "del ",
     "library": "var_list.py",
     "varRefreshCmd": "print(var_dic_list())"
    },
    "r": {
     "delete_cmd_postfix": ") ",
     "delete_cmd_prefix": "rm(",
     "library": "var_list.r",
     "varRefreshCmd": "cat(var_dic_list()) "
    }
   },
   "types_to_exclude": [
    "module",
    "function",
    "builtin_function_or_method",
    "instance",
    "_Feature"
   ],
   "window_display": false
  }
 },
 "nbformat": 4,
 "nbformat_minor": 2
}
