{
 "cells": [
  {
   "cell_type": "code",
   "execution_count": 1,
   "metadata": {
    "ExecuteTime": {
     "end_time": "2020-01-30T18:28:25.715240Z",
     "start_time": "2020-01-30T18:28:24.377510Z"
    }
   },
   "outputs": [],
   "source": [
    "import numpy as np\n",
    "import pandas as pd\n",
    "import matplotlib.pyplot as plt\n",
    "\n",
    "import warnings\n",
    "warnings.filterwarnings(\"ignore\")"
   ]
  },
  {
   "cell_type": "code",
   "execution_count": 2,
   "metadata": {
    "ExecuteTime": {
     "end_time": "2020-01-30T18:28:25.766532Z",
     "start_time": "2020-01-30T18:28:25.721088Z"
    }
   },
   "outputs": [],
   "source": [
    "data = pd.read_csv(\"data/african_crises.csv\", sep=\";\")"
   ]
  },
  {
   "cell_type": "markdown",
   "metadata": {},
   "source": [
    "### 1. Inventaire des variables"
   ]
  },
  {
   "cell_type": "code",
   "execution_count": 3,
   "metadata": {
    "ExecuteTime": {
     "end_time": "2020-01-30T18:28:25.848189Z",
     "start_time": "2020-01-30T18:28:25.771590Z"
    }
   },
   "outputs": [
    {
     "data": {
      "text/plain": [
       "{'Dimensions du tableau': (1059, 12), 'nombre pays distincts': 13}"
      ]
     },
     "execution_count": 3,
     "metadata": {},
     "output_type": "execute_result"
    }
   ],
   "source": [
    "# Nombre de lignes et de columns\n",
    "{\"Dimensions du tableau\":data.shape, \"nombre pays distincts\": len(data.country.unique())}"
   ]
  },
  {
   "cell_type": "code",
   "execution_count": 4,
   "metadata": {
    "ExecuteTime": {
     "end_time": "2020-01-30T18:28:25.955093Z",
     "start_time": "2020-01-30T18:28:25.857327Z"
    }
   },
   "outputs": [
    {
     "data": {
      "text/plain": [
       "country                             object\n",
       "year                                 int64\n",
       "systemic_crisis                      int64\n",
       "exch_usd                           float64\n",
       "domestic_debt_in_default             int64\n",
       "sovereign_external_debt_default      int64\n",
       "gdp_weighted_default               float64\n",
       "inflation_annual_cpi               float64\n",
       "independence                         int64\n",
       "currency_crises                      int64\n",
       "inflation_crises                     int64\n",
       "banking_crisis                      object\n",
       "dtype: object"
      ]
     },
     "execution_count": 4,
     "metadata": {},
     "output_type": "execute_result"
    }
   ],
   "source": [
    "# Les types de variables\n",
    "data.dtypes"
   ]
  },
  {
   "cell_type": "markdown",
   "metadata": {},
   "source": [
    "Il y a 2 variables de type <span style=\"color:red\">Object</span> qui sont en fait des variables <span style=\"color:red\">qualitatives</span>; parmis ces variables figure la variable target <b>banking_crisis</b>. Les autres, 10, variables sont <span style=\"color:blue\">Numeriques</span>."
   ]
  },
  {
   "cell_type": "code",
   "execution_count": 5,
   "metadata": {
    "ExecuteTime": {
     "end_time": "2020-01-30T18:28:26.077049Z",
     "start_time": "2020-01-30T18:28:25.962177Z"
    }
   },
   "outputs": [
    {
     "data": {
      "text/plain": [
       "Index([], dtype='object')"
      ]
     },
     "execution_count": 5,
     "metadata": {},
     "output_type": "execute_result"
    }
   ],
   "source": [
    "# Aucune donnee manquante dans le jeu\n",
    "data.columns[data.isna().any()]"
   ]
  },
  {
   "cell_type": "markdown",
   "metadata": {},
   "source": [
    "### 2. Essai de reponse"
   ]
  },
  {
   "cell_type": "markdown",
   "metadata": {},
   "source": [
    "On peut y utiliser:\n",
    "1. Une regression logistique\n",
    "2. Une foret aleatoire, randomForest\n",
    "3. Une classification a l'aide des surpport vectors machines"
   ]
  },
  {
   "cell_type": "markdown",
   "metadata": {},
   "source": [
    "### 3. Codage du nom des pays"
   ]
  },
  {
   "cell_type": "code",
   "execution_count": 6,
   "metadata": {
    "ExecuteTime": {
     "end_time": "2020-01-30T18:28:26.229034Z",
     "start_time": "2020-01-30T18:28:26.085048Z"
    }
   },
   "outputs": [],
   "source": [
    "countries_ind = {x:x[:2] for x in data.country.unique()}\n",
    "df = data.replace({\"country\":countries_ind})"
   ]
  },
  {
   "cell_type": "code",
   "execution_count": 20,
   "metadata": {
    "ExecuteTime": {
     "end_time": "2020-01-30T18:31:33.706734Z",
     "start_time": "2020-01-30T18:31:33.698965Z"
    }
   },
   "outputs": [
    {
     "data": {
      "text/plain": [
       "array(['Al', 'An', 'Ce', 'Iv', 'Eg', 'Ke', 'Ma', 'Mo', 'Ni', 'So', 'Tu',\n",
       "       'Za', 'Zi'], dtype=object)"
      ]
     },
     "execution_count": 20,
     "metadata": {},
     "output_type": "execute_result"
    }
   ],
   "source": [
    "df.country.unique()"
   ]
  },
  {
   "cell_type": "markdown",
   "metadata": {},
   "source": [
    "### 4. Proportion de risques crises"
   ]
  },
  {
   "cell_type": "markdown",
   "metadata": {},
   "source": [
    "### 4.1 Dumification"
   ]
  },
  {
   "cell_type": "code",
   "execution_count": 8,
   "metadata": {
    "ExecuteTime": {
     "end_time": "2020-01-30T18:28:26.516259Z",
     "start_time": "2020-01-30T18:28:26.367836Z"
    }
   },
   "outputs": [],
   "source": [
    "# Dummification des variables qualitatives\n",
    "df_dummy = pd.get_dummies(df)"
   ]
  },
  {
   "cell_type": "markdown",
   "metadata": {},
   "source": [
    "### 4.2 Proportion de crises dans les observations"
   ]
  },
  {
   "cell_type": "markdown",
   "metadata": {
    "ExecuteTime": {
     "end_time": "2020-01-30T17:22:05.895206Z",
     "start_time": "2020-01-30T17:22:05.887367Z"
    }
   },
   "source": [
    "a. <span style=\"color:blue\">Proportions de crises par pays en %</span>"
   ]
  },
  {
   "cell_type": "code",
   "execution_count": 9,
   "metadata": {
    "ExecuteTime": {
     "end_time": "2020-01-30T18:28:26.680390Z",
     "start_time": "2020-01-30T18:28:26.523054Z"
    }
   },
   "outputs": [
    {
     "data": {
      "text/plain": [
       "country\n",
       "Algeria                      4.705882\n",
       "Angola                       9.090909\n",
       "Central African Republic    32.758621\n",
       "Egypt                        7.096774\n",
       "Ivory Coast                  6.349206\n",
       "Kenya                       11.940299\n",
       "Mauritius                    1.470588\n",
       "Morocco                      2.666667\n",
       "Nigeria                     18.333333\n",
       "South Africa                 2.631579\n",
       "Tunisia                      6.666667\n",
       "Zambia                       5.555556\n",
       "Zimbabwe                    16.666667\n",
       "Name: crisis, dtype: float64"
      ]
     },
     "execution_count": 9,
     "metadata": {},
     "output_type": "execute_result"
    }
   ],
   "source": [
    "# Proportions de crises par pays %\n",
    "tmp = data.drop(\"banking_crisis\", axis=1)\n",
    "tmp[\"crisis\"] = pd.get_dummies(df.banking_crisis)[\"crisis\"]\n",
    "tmp.groupby(by=[\"country\"])[\"crisis\"].mean()*100"
   ]
  },
  {
   "cell_type": "markdown",
   "metadata": {},
   "source": [
    "b. <span style=\"color:blue\">Proportion de crise par annnees en %</span>"
   ]
  },
  {
   "cell_type": "code",
   "execution_count": 10,
   "metadata": {
    "ExecuteTime": {
     "end_time": "2020-01-30T18:28:26.791928Z",
     "start_time": "2020-01-30T18:28:26.691230Z"
    },
    "scrolled": true
   },
   "outputs": [
    {
     "data": {
      "text/plain": [
       "year\n",
       "1870    50.000000\n",
       "1907    50.000000\n",
       "1931    25.000000\n",
       "1976     7.692308\n",
       "1977    15.384615\n",
       "1978    15.384615\n",
       "1979     7.692308\n",
       "1980     7.692308\n",
       "1981    16.666667\n",
       "1982    16.666667\n",
       "1983    16.666667\n",
       "1984     8.333333\n",
       "1985     8.333333\n",
       "1986     8.333333\n",
       "1987     8.333333\n",
       "1988    25.000000\n",
       "1989    25.000000\n",
       "1990    33.333333\n",
       "1991    41.666667\n",
       "1992    53.846154\n",
       "1993    46.153846\n",
       "1994    46.153846\n",
       "1995    61.538462\n",
       "1996    38.461538\n",
       "1997    38.461538\n",
       "1998    30.769231\n",
       "1999    15.384615\n",
       "2000     7.692308\n",
       "2001     7.692308\n",
       "2002     7.692308\n",
       "2003     7.692308\n",
       "2004     7.692308\n",
       "2005     7.692308\n",
       "2006     7.692308\n",
       "2007     7.692308\n",
       "2008     7.692308\n",
       "2009    15.384615\n",
       "2010     7.692308\n",
       "2011     7.692308\n",
       "2012     7.692308\n",
       "2013     7.692308\n",
       "2014     9.090909\n",
       "Name: crisis, dtype: float64"
      ]
     },
     "execution_count": 10,
     "metadata": {},
     "output_type": "execute_result"
    }
   ],
   "source": [
    "# Proportion de crise par annnees en %\n",
    "tmp = data.drop(\"banking_crisis\", axis=1)\n",
    "tmp[\"crisis\"] = pd.get_dummies(df.banking_crisis)[\"crisis\"]\n",
    "yearly_crisis = tmp.groupby(by=[\"year\"])[\"crisis\"].mean()*100\n",
    "\n",
    "# Liste des taux de crise sans les proportion nulles\n",
    "yearly_crisis.iloc[yearly_crisis.nonzero()]"
   ]
  },
  {
   "cell_type": "markdown",
   "metadata": {},
   "source": [
    "### 4.3 Matrice des donnees"
   ]
  },
  {
   "cell_type": "code",
   "execution_count": 11,
   "metadata": {
    "ExecuteTime": {
     "end_time": "2020-01-30T18:28:28.023931Z",
     "start_time": "2020-01-30T18:28:26.798576Z"
    }
   },
   "outputs": [
    {
     "data": {
      "text/plain": [
       "((847, 22), (212, 22))"
      ]
     },
     "execution_count": 11,
     "metadata": {},
     "output_type": "execute_result"
    }
   ],
   "source": [
    "from sklearn.model_selection import train_test_split\n",
    "\n",
    "# New data tp process\n",
    "y = df_dummy.banking_crisis_crisis\n",
    "# La variable annees n'est pas utile\n",
    "X = df_dummy.drop([\"banking_crisis_crisis\",\"banking_crisis_no_crisis\", \"year\"], axis=1)\n",
    "\n",
    "# Train test split\n",
    "x_train, x_test, y_train, y_test = train_test_split(X, y, test_size=0.2, random_state=5)\n",
    "\n",
    "x_train.shape, x_test.shape"
   ]
  },
  {
   "cell_type": "markdown",
   "metadata": {},
   "source": [
    "### 4.4 Modelisations"
   ]
  },
  {
   "cell_type": "code",
   "execution_count": 12,
   "metadata": {
    "ExecuteTime": {
     "end_time": "2020-01-30T18:28:28.037126Z",
     "start_time": "2020-01-30T18:28:28.029142Z"
    }
   },
   "outputs": [],
   "source": [
    "from sklearn.metrics import precision_score, recall_score"
   ]
  },
  {
   "cell_type": "code",
   "execution_count": 13,
   "metadata": {
    "ExecuteTime": {
     "end_time": "2020-01-30T18:28:28.201838Z",
     "start_time": "2020-01-30T18:28:28.043325Z"
    }
   },
   "outputs": [],
   "source": [
    "def evaluate(pred, y_true=y_test):\n",
    "    p = precision_score(y_true, pred)\n",
    "    r = recall_score(y_true, pred)\n",
    "    return {\"p\":p,\"r\":r}"
   ]
  },
  {
   "cell_type": "markdown",
   "metadata": {
    "ExecuteTime": {
     "end_time": "2020-01-30T17:31:28.438817Z",
     "start_time": "2020-01-30T17:31:28.431207Z"
    }
   },
   "source": [
    "#### 4.4.1 Regression logistique"
   ]
  },
  {
   "cell_type": "code",
   "execution_count": 14,
   "metadata": {
    "ExecuteTime": {
     "end_time": "2020-01-30T18:28:28.529308Z",
     "start_time": "2020-01-30T18:28:28.213971Z"
    }
   },
   "outputs": [],
   "source": [
    "from sklearn.linear_model import LogisticRegressionCV"
   ]
  },
  {
   "cell_type": "code",
   "execution_count": 15,
   "metadata": {
    "ExecuteTime": {
     "end_time": "2020-01-30T18:28:30.530696Z",
     "start_time": "2020-01-30T18:28:28.532349Z"
    }
   },
   "outputs": [
    {
     "data": {
      "text/plain": [
       "{'p': 0.9130434782608695, 'r': 0.9130434782608695}"
      ]
     },
     "execution_count": 15,
     "metadata": {},
     "output_type": "execute_result"
    }
   ],
   "source": [
    "lg_r = LogisticRegressionCV(cv=3).fit(x_train, y_train)\n",
    "pred_lg_r = lg_r.predict(x_test)\n",
    "evaluate(pred_lg_r)"
   ]
  },
  {
   "cell_type": "markdown",
   "metadata": {},
   "source": [
    "#### 4.4.2 Random Forest"
   ]
  },
  {
   "cell_type": "code",
   "execution_count": 16,
   "metadata": {
    "ExecuteTime": {
     "end_time": "2020-01-30T18:28:30.610594Z",
     "start_time": "2020-01-30T18:28:30.542668Z"
    }
   },
   "outputs": [
    {
     "name": "stderr",
     "output_type": "stream",
     "text": [
      "C:\\Users\\Alkarid\\Anaconda3\\lib\\site-packages\\sklearn\\ensemble\\weight_boosting.py:29: DeprecationWarning: numpy.core.umath_tests is an internal NumPy module and should not be imported. It will be removed in a future NumPy release.\n",
      "  from numpy.core.umath_tests import inner1d\n"
     ]
    }
   ],
   "source": [
    "from sklearn.ensemble import RandomForestClassifier"
   ]
  },
  {
   "cell_type": "code",
   "execution_count": 17,
   "metadata": {
    "ExecuteTime": {
     "end_time": "2020-01-30T18:28:30.835730Z",
     "start_time": "2020-01-30T18:28:30.617549Z"
    }
   },
   "outputs": [
    {
     "data": {
      "text/plain": [
       "{'p': 1.0, 'r': 0.9130434782608695}"
      ]
     },
     "execution_count": 17,
     "metadata": {},
     "output_type": "execute_result"
    }
   ],
   "source": [
    "rf = RandomForestClassifier(random_state=5).fit(x_train, y_train)\n",
    "pred_rf = rf.predict(x_test)\n",
    "evaluate(pred_rf)"
   ]
  },
  {
   "cell_type": "markdown",
   "metadata": {},
   "source": [
    "#### 4.4.3 SVM"
   ]
  },
  {
   "cell_type": "code",
   "execution_count": 18,
   "metadata": {
    "ExecuteTime": {
     "end_time": "2020-01-30T18:28:30.877967Z",
     "start_time": "2020-01-30T18:28:30.843184Z"
    }
   },
   "outputs": [],
   "source": [
    "from sklearn.svm import SVC"
   ]
  },
  {
   "cell_type": "code",
   "execution_count": 19,
   "metadata": {
    "ExecuteTime": {
     "end_time": "2020-01-30T18:28:31.082290Z",
     "start_time": "2020-01-30T18:28:30.882132Z"
    }
   },
   "outputs": [
    {
     "data": {
      "text/plain": [
       "{'p': 0.5, 'r': 0.043478260869565216}"
      ]
     },
     "execution_count": 19,
     "metadata": {},
     "output_type": "execute_result"
    }
   ],
   "source": [
    "svc = SVC().fit(x_train, y_train)\n",
    "pred_svc = svc.predict(x_test)\n",
    "evaluate(pred_svc)"
   ]
  },
  {
   "cell_type": "markdown",
   "metadata": {},
   "source": [
    "### Classement des models"
   ]
  },
  {
   "cell_type": "markdown",
   "metadata": {
    "ExecuteTime": {
     "end_time": "2020-01-30T18:09:30.376129Z",
     "start_time": "2020-01-30T18:09:30.367149Z"
    }
   },
   "source": [
    "1. Random Forest\n",
    "2. Regression logistique\n",
    "3. SVM"
   ]
  }
 ],
 "metadata": {
  "kernelspec": {
   "display_name": "Python 3",
   "language": "python",
   "name": "python3"
  },
  "language_info": {
   "codemirror_mode": {
    "name": "ipython",
    "version": 3
   },
   "file_extension": ".py",
   "mimetype": "text/x-python",
   "name": "python",
   "nbconvert_exporter": "python",
   "pygments_lexer": "ipython3",
   "version": "3.7.0"
  },
  "varInspector": {
   "cols": {
    "lenName": 16,
    "lenType": 16,
    "lenVar": 40
   },
   "kernels_config": {
    "python": {
     "delete_cmd_postfix": "",
     "delete_cmd_prefix": "del ",
     "library": "var_list.py",
     "varRefreshCmd": "print(var_dic_list())"
    },
    "r": {
     "delete_cmd_postfix": ") ",
     "delete_cmd_prefix": "rm(",
     "library": "var_list.r",
     "varRefreshCmd": "cat(var_dic_list()) "
    }
   },
   "types_to_exclude": [
    "module",
    "function",
    "builtin_function_or_method",
    "instance",
    "_Feature"
   ],
   "window_display": false
  }
 },
 "nbformat": 4,
 "nbformat_minor": 2
}
